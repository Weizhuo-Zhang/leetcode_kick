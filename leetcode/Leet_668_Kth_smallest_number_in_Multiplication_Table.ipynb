{
  "nbformat": 4,
  "nbformat_minor": 0,
  "metadata": {
    "kernelspec": {
      "display_name": "Python 3",
      "language": "python",
      "name": "python3"
    },
    "language_info": {
      "codemirror_mode": {
        "name": "ipython",
        "version": 3
      },
      "file_extension": ".py",
      "mimetype": "text/x-python",
      "name": "python",
      "nbconvert_exporter": "python",
      "pygments_lexer": "ipython3",
      "version": "3.7.3"
    },
    "colab": {
      "name": "Leet_668_Kth_smallest_number_in_Multiplication_Table.ipynb",
      "provenance": []
    }
  },
  "cells": [
    {
      "cell_type": "markdown",
      "metadata": {
        "id": "_JgGTqmWYZm7",
        "colab_type": "text"
      },
      "source": [
        "# Leet 668: Kth smallest number in Multiplication Table (乘法表 百度2016实习生真题)\n",
        "\n",
        "## 中文题目描述\n",
        "度度熊和爷爷在玩一个乘法表游戏。乘法表的第i行第j列位置的元素为$i*j$，并且乘法表下标编号从1开始，比如$2*3$乘法表为\n",
        "```\n",
        "1 2 3\n",
        "2 4 6\n",
        "```\n",
        "爷爷十分聪明，对于$n*m$的乘法表，只要度度熊给出一个数$k$，爷爷就能立刻告诉度度熊乘法表中元素按照不减顺序排列之后，第k个元素是多少。你能重复这个游戏吗？\n",
        "\n",
        "### 输入\n",
        "输入数据是三个整数：$n, m, k\\space\\space(1≤n, m≤5*105, 1≤k≤nm)$。\n",
        "#### 样例输入：\n",
        "```\n",
        "2, 3, 4\n",
        "```\n",
        "\n",
        "### 输出\n",
        "输出$n*m$乘法表按照不减顺序排列的第$k$个数。\n",
        "#### 样例输出：\n",
        "```\n",
        "3\n",
        "```\n",
        "\n",
        "## Description\n",
        "Nearly every one have used the **Multiplication** Table. But could you find out the **k-th** smallest number quickly from the multiplication table?\n",
        "\n",
        "Given the height $m$ and the length n of a $m * n$ Multiplication Table, and a positive integer $k$, you need to return the **k-th** smallest number in this table.\n",
        "\n",
        "**Example 1:**\n",
        "```\n",
        "Input: m = 3, n = 3, k = 5\n",
        "Output: \n",
        "Explanation: \n",
        "The Multiplication Table:\n",
        "1\t2\t3\n",
        "2\t4\t6\n",
        "3\t6\t9\n",
        "\n",
        "The 5-th smallest number is 3 (1, 2, 2, 3, 3).\n",
        "```\n",
        "\n",
        "**Example 2:**\n",
        "```\n",
        "Input: m = 2, n = 3, k = 6\n",
        "Output: \n",
        "Explanation: \n",
        "The Multiplication Table:\n",
        "1\t2\t3\n",
        "2\t4\t6\n",
        "\n",
        "The 6-th smallest number is 6 (1, 2, 2, 3, 4, 6).\n",
        "```\n",
        "\n",
        "**Note:**\n",
        "1. The $m$ and $n$ will be in the range $[1, 30000]$.\n",
        "2. The $k$ will be in the range $[1, m * n]$"
      ]
    },
    {
      "cell_type": "markdown",
      "metadata": {
        "id": "08gWv2nbYqqq",
        "colab_type": "text"
      },
      "source": [
        "## Methods\n",
        "### Method 1 - Brute Force\n",
        "\n"
      ]
    }
  ]
}