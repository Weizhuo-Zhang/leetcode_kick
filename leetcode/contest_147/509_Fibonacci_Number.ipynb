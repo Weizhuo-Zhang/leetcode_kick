{
 "cells": [
  {
   "cell_type": "markdown",
   "metadata": {},
   "source": [
    "# 509. Fibonacci Number\n",
    "\n",
    "The Fibonacci numbers, commonly denoted F(n) form a sequence, called the Fibonacci sequence, such that each number is the sum of the two preceding ones, starting from 0 and 1. That is,\n",
    "\n",
    "```\n",
    "F(0) = 0,   F(1) = 1\n",
    "F(N) = F(N - 1) + F(N - 2), for N > 1.\n",
    "Given N, calculate F(N).\n",
    "```\n",
    " \n",
    "**Example 1**:\n",
    "```\n",
    "Input: 2\n",
    "Output: 1\n",
    "Explanation: F(2) = F(1) + F(0) = 1 + 0 = 1.\n",
    "```\n",
    "\n",
    "**Example 2**:\n",
    "```\n",
    "Input: 3\n",
    "Output: 2\n",
    "Explanation: F(3) = F(2) + F(1) = 1 + 1 = 2.\n",
    "```\n",
    "\n",
    "**Example 3**:\n",
    "```\n",
    "Input: 4\n",
    "Output: 3\n",
    "Explanation: F(4) = F(3) + F(2) = 2 + 1 = 3.\n",
    "```"
   ]
  },
  {
   "cell_type": "markdown",
   "metadata": {},
   "source": [
    "## Solution 1\n",
    "```python\n",
    "# Simplest solution: recursion\n",
    "# memory occupancy is very high and quite slow\n",
    "class Solution:\n",
    "    def fib(self, N: int) -> int:\n",
    "        if N < 2:\n",
    "            return N\n",
    "        return self.fib(N-1) + self.fib(N-2)\n",
    "```\n",
    "**Result**:\n",
    "\n",
    "|   Name  | Performance | Description |\n",
    "| ------- | ----------- | ----------- |\n",
    "| Runtime | 1052ms      | faster than 22.48% of Python3 |\n",
    "| Memory  | 14MB        | less than 5.36% of Python3 |"
   ]
  },
  {
   "cell_type": "markdown",
   "metadata": {},
   "source": [
    "## Solution 2\n",
    "\n",
    "**Result**:\n",
    "\n",
    "|   Name  | Performance | Description |\n",
    "| ------- | ----------- | ----------- |\n",
    "| Runtime | ----ms      | faster than ----% of Python3 |\n",
    "| Memory  | ----MB        | less than ----% of Python3 |"
   ]
  },
  {
   "cell_type": "code",
   "execution_count": null,
   "metadata": {},
   "outputs": [],
   "source": []
  }
 ],
 "metadata": {
  "kernelspec": {
   "display_name": "Python 3",
   "language": "python",
   "name": "python3"
  },
  "language_info": {
   "codemirror_mode": {
    "name": "ipython",
    "version": 3
   },
   "file_extension": ".py",
   "mimetype": "text/x-python",
   "name": "python",
   "nbconvert_exporter": "python",
   "pygments_lexer": "ipython3",
   "version": "3.7.3"
  }
 },
 "nbformat": 4,
 "nbformat_minor": 2
}
