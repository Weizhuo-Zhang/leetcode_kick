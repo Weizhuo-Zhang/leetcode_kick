{
  "nbformat": 4,
  "nbformat_minor": 0,
  "metadata": {
    "colab": {
      "name": "chapter_01_the_basics.ipynb",
      "provenance": [],
      "collapsed_sections": []
    },
    "kernelspec": {
      "name": "python3",
      "display_name": "Python 3"
    }
  },
  "cells": [
    {
      "cell_type": "markdown",
      "metadata": {
        "id": "V7XA2VhnbsAU",
        "colab_type": "text"
      },
      "source": [
        "# 第1章 基础知识"
      ]
    }
  ]
}