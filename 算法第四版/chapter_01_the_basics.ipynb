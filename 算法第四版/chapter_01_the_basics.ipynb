{
  "nbformat": 4,
  "nbformat_minor": 0,
  "metadata": {
    "colab": {
      "name": "chapter_01_the_basics.ipynb",
      "provenance": [],
      "collapsed_sections": []
    },
    "kernelspec": {
      "name": "python3",
      "display_name": "Python 3"
    }
  },
  "cells": [
    {
      "cell_type": "markdown",
      "metadata": {
        "id": "V7XA2VhnbsAU",
        "colab_type": "text"
      },
      "source": [
        "# 第1章 基础知识\n",
        "\n",
        "#### 欧几里得算法(辗转相除法)\n",
        "\n",
        "欧几里得算法用于求最大公约数Greatest Common Divisor(GCD)。两个整数的最大公约数是能同时整除它们的最大的正整数。\n",
        "\n",
        "##### 原理：\n",
        "两个整数的最大公约数等于其中较小的数和两数的差的最大公约数。\n",
        "\n",
        "##### 例子：\n",
        "252和105的最大公约数是21 ($252 = 21*12; 105=21*5$)，因此$252-105=147$，所以147和105的最大公约数也是21。在这个过程中，较大的数缩小了，所以继续进行同样的计算可以不断缩小这两个数直至其中一个数变成零。这时，所剩下的还没有变成零的数就是两数的最大公约数。\n",
        "\n",
        "\n",
        "## 1.1 基础编程模型\n",
        "\n",
        "### 1.1.10 二分查找\n",
        "\n",
        "#### 二分查找\n",
        "```c\n",
        "\n",
        "```\n",
        "\n",
        "---"
      ]
    },
    {
      "cell_type": "markdown",
      "metadata": {
        "id": "FO6Ed-1CNkWK",
        "colab_type": "text"
      },
      "source": [
        "## 1.5 案例研究：union-find算法\n",
        "\n",
        "### 1.5.1 quick-union\n",
        "用rank(树的深度)进行合并，rank小的树合并进rank大的树。\n",
        "\n",
        "### 1.5.2 quick-find\n",
        "每次find 的时候，使用路径压缩，将所经过的儿子节点的父节点全部指向根结点。"
      ]
    }
  ]
}