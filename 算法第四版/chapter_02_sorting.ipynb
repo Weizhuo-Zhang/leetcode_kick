{
  "nbformat": 4,
  "nbformat_minor": 0,
  "metadata": {
    "colab": {
      "name": "chapter_02_sorting.ipynb",
      "provenance": []
    },
    "kernelspec": {
      "name": "python3",
      "display_name": "Python 3"
    }
  },
  "cells": [
    {
      "cell_type": "markdown",
      "metadata": {
        "id": "_5Odz27PkVIj",
        "colab_type": "text"
      },
      "source": [
        "# 第2章 排序\n",
        "\n",
        "## 2.1 初级排序算法\n",
        "\n",
        "### 2.1.2 选择排序\n",
        "\n",
        "选择排序是最简单的排序算法：首先，找到数组中最小的数，其次，将它和数组中的第一个元素交换位置。再次，再剩下的元素中找到最小的元素，将它与数组中的第二个元素交换位置。如此往复，直到将整个数组排序。这种方法叫做选择排序，因为它不断地选择剩余元素中的最小者。\n",
        "\n",
        "#### 算法2.1 选择排序\n",
        "```c\n",
        "\n",
        "```"
      ]
    }
  ]
}