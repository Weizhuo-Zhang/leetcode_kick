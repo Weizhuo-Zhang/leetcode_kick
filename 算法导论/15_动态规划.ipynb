{
 "cells": [
  {
   "cell_type": "markdown",
   "metadata": {},
   "source": [
    "#  第15章 动态规划\n",
    "\n",
    "动态规划(Dynamic Programming)中的\"Programming\"是指一种规划，而不是指写计算机代码。\n",
    "\n",
    "#### 分治法和动态规划的差别\n",
    "- **分治法**：讲问题划分成独立的子问题，递归的求解各子问题。\n",
    "- **动态规划**：动态规划适用于子问题不是独立的情况，也就是各子问题包含了公共的子子问题。\n",
    "\n",
    "在这种情况下，若用分治法则会做许多不必要的工作，即重复地求解公共的子子问题。动态规划算法对每个子子问题只求解一次，将其结果保存在一张表中，从而避免每次遇到各个子问题时重新计算答案。\n",
    "\n",
    "动态规划通常应用与*最优解问题*\n",
    "\n",
    "动态规划算法设计可以分为如下4个步骤：\n",
    "1. 描述最优解结构\n",
    "2. 递归定义最优解的值\n",
    "3. 按自底向上的方式计算最优解的值\n",
    "4. 由计算出的结果构造一个最优解"
   ]
  },
  {
   "cell_type": "markdown",
   "metadata": {},
   "source": [
    "## 15.1 装配线调度\n",
    "\n",
    "\n",
    "$2$ 条装配线: $i=1,2$\n",
    "\n",
    "$n$个装配站，在每条装配线上：$j=1,2,...,n$\n",
    "\n",
    "将装配线 $i$（ $i$ 为 $1$ 或 $2$ ）的第$j$个装配站表示为 $S_{i,j}$ ，装配线 $1$ 的第 $j$ 个站（ $S_{1,j}$ ）和装配线 $2$ 的第 $j$ 个站（ $S_{2,j}$ ）执行相同的功能。我们在把装配站 $S_{i,j}$ 上所需的装配时间记为 $a_{1,j}$ 。如下图所示，底盘进入装配线 $i$ 的进入时间为 $e_i$ ，装配完的汽车离开装配线 $i$ 的离开时间为 *x_i*。\n",
    "\n",
    "从装配线 $i$ 上的装配站 $S_{i, j}$ 移走所花时间是 $t_{i,j}$，其中 $i=1,2$ ，而 $j=1,2,...,n-1$ （因为在第 $n$ 个装配站后，装配已经完成）。\n",
    "![zhuangpeixiandiaodu](pics/zhuangpeixiandiaodu.png)\n",
    "\n",
    "下图中，最快的总时间是选择装配线 $1$ 的装配站 $1$ ， $3$ 和 $6$ 。以及装配线 $2$ 的装配站 $2$ ， $4$ 和 $5$ 。\n",
    "![zhuangpeixiandiaodu_2](pics/zhuangpeixiandiaodu_2.png)"
   ]
  },
  {
   "cell_type": "code",
   "execution_count": null,
   "metadata": {},
   "outputs": [],
   "source": []
  }
 ],
 "metadata": {
  "kernelspec": {
   "display_name": "Python 3",
   "language": "python",
   "name": "python3"
  },
  "language_info": {
   "codemirror_mode": {
    "name": "ipython",
    "version": 3
   },
   "file_extension": ".py",
   "mimetype": "text/x-python",
   "name": "python",
   "nbconvert_exporter": "python",
   "pygments_lexer": "ipython3",
   "version": "3.7.3"
  }
 },
 "nbformat": 4,
 "nbformat_minor": 2
}
